{
 "cells": [
  {
   "cell_type": "code",
   "execution_count": null,
   "id": "6ee5bfbe",
   "metadata": {},
   "outputs": [],
   "source": [
    "#@Author :Lenka Sai Surya Sashank\n",
    "#Date : 01-09-2021\n",
    "#Version\n",
    "#Tensorflow\n",
    "#Keras\n",
    "#Python 3.7.6\n",
    "#Pandas == 1.0.5\n",
    "#Numpy  == 1.20.2\n",
    "#seaborn == 0.10.0\n",
    "#sklearn == 0.22.1\n",
    "\n",
    "#Please use it for reference , Donot copy paste  :')"
   ]
  },
  {
   "cell_type": "code",
   "execution_count": 44,
   "id": "21f6063a",
   "metadata": {},
   "outputs": [],
   "source": [
    "import numpy as np\n",
    "import matplotlib.pyplot as plt\n",
    "import seaborn as sns; sns.set()\n",
    "from keras.datasets import cifar10\n",
    "from sklearn.preprocessing import OneHotEncoder\n",
    "from sklearn.metrics import confusion_matrix\n",
    "from keras.layers import Conv2D, MaxPool2D, Flatten, Dense, Dropout\n",
    "from keras.models import Sequential, load_model\n",
    "from keras.callbacks import EarlyStopping\n",
    "import nltk\n",
    "import pandas as pd\n",
    "from datetime import datetime\n",
    "\n",
    "import warnings\n",
    "warnings.filterwarnings('ignore')"
   ]
  },
  {
   "cell_type": "code",
   "execution_count": 45,
   "id": "256bbdf4",
   "metadata": {},
   "outputs": [
    {
     "name": "stderr",
     "output_type": "stream",
     "text": [
      "[nltk_data] Downloading package punkt to C:\\Users\\L\n",
      "[nltk_data]     SURYA\\AppData\\Roaming\\nltk_data...\n",
      "[nltk_data]   Package punkt is already up-to-date!\n"
     ]
    },
    {
     "data": {
      "text/plain": [
       "True"
      ]
     },
     "execution_count": 45,
     "metadata": {},
     "output_type": "execute_result"
    }
   ],
   "source": [
    "nltk.download('punkt')"
   ]
  },
  {
   "cell_type": "markdown",
   "id": "29a2db7e",
   "metadata": {},
   "source": [
    "# Load the dataset"
   ]
  },
  {
   "cell_type": "markdown",
   "id": "ac1643ef",
   "metadata": {},
   "source": [
    "We will load the individual dataset, create a target attribute which will indicate '1' if the news is fake. Combine both the dataframes and create the combine dataframe for modelling"
   ]
  },
  {
   "cell_type": "code",
   "execution_count": 15,
   "id": "36f15140",
   "metadata": {},
   "outputs": [
    {
     "data": {
      "text/html": [
       "<div>\n",
       "<style scoped>\n",
       "    .dataframe tbody tr th:only-of-type {\n",
       "        vertical-align: middle;\n",
       "    }\n",
       "\n",
       "    .dataframe tbody tr th {\n",
       "        vertical-align: top;\n",
       "    }\n",
       "\n",
       "    .dataframe thead th {\n",
       "        text-align: right;\n",
       "    }\n",
       "</style>\n",
       "<table border=\"1\" class=\"dataframe\">\n",
       "  <thead>\n",
       "    <tr style=\"text-align: right;\">\n",
       "      <th></th>\n",
       "      <th>title</th>\n",
       "      <th>text</th>\n",
       "      <th>subject</th>\n",
       "      <th>date</th>\n",
       "    </tr>\n",
       "  </thead>\n",
       "  <tbody>\n",
       "    <tr>\n",
       "      <th>0</th>\n",
       "      <td>Donald Trump Sends Out Embarrassing New Year’...</td>\n",
       "      <td>Donald Trump just couldn t wish all Americans ...</td>\n",
       "      <td>News</td>\n",
       "      <td>December 31, 2017</td>\n",
       "    </tr>\n",
       "    <tr>\n",
       "      <th>1</th>\n",
       "      <td>Drunk Bragging Trump Staffer Started Russian ...</td>\n",
       "      <td>House Intelligence Committee Chairman Devin Nu...</td>\n",
       "      <td>News</td>\n",
       "      <td>December 31, 2017</td>\n",
       "    </tr>\n",
       "    <tr>\n",
       "      <th>2</th>\n",
       "      <td>Sheriff David Clarke Becomes An Internet Joke...</td>\n",
       "      <td>On Friday, it was revealed that former Milwauk...</td>\n",
       "      <td>News</td>\n",
       "      <td>December 30, 2017</td>\n",
       "    </tr>\n",
       "    <tr>\n",
       "      <th>3</th>\n",
       "      <td>Trump Is So Obsessed He Even Has Obama’s Name...</td>\n",
       "      <td>On Christmas day, Donald Trump announced that ...</td>\n",
       "      <td>News</td>\n",
       "      <td>December 29, 2017</td>\n",
       "    </tr>\n",
       "    <tr>\n",
       "      <th>4</th>\n",
       "      <td>Pope Francis Just Called Out Donald Trump Dur...</td>\n",
       "      <td>Pope Francis used his annual Christmas Day mes...</td>\n",
       "      <td>News</td>\n",
       "      <td>December 25, 2017</td>\n",
       "    </tr>\n",
       "  </tbody>\n",
       "</table>\n",
       "</div>"
      ],
      "text/plain": [
       "                                               title  \\\n",
       "0   Donald Trump Sends Out Embarrassing New Year’...   \n",
       "1   Drunk Bragging Trump Staffer Started Russian ...   \n",
       "2   Sheriff David Clarke Becomes An Internet Joke...   \n",
       "3   Trump Is So Obsessed He Even Has Obama’s Name...   \n",
       "4   Pope Francis Just Called Out Donald Trump Dur...   \n",
       "\n",
       "                                                text subject  \\\n",
       "0  Donald Trump just couldn t wish all Americans ...    News   \n",
       "1  House Intelligence Committee Chairman Devin Nu...    News   \n",
       "2  On Friday, it was revealed that former Milwauk...    News   \n",
       "3  On Christmas day, Donald Trump announced that ...    News   \n",
       "4  Pope Francis used his annual Christmas Day mes...    News   \n",
       "\n",
       "                date  \n",
       "0  December 31, 2017  \n",
       "1  December 31, 2017  \n",
       "2  December 30, 2017  \n",
       "3  December 29, 2017  \n",
       "4  December 25, 2017  "
      ]
     },
     "execution_count": 15,
     "metadata": {},
     "output_type": "execute_result"
    }
   ],
   "source": [
    "# load the fake and real news datasets\n",
    "fake_news = pd.read_csv(\"Fake.csv\")\n",
    "fake_news.head()"
   ]
  },
  {
   "cell_type": "code",
   "execution_count": 16,
   "id": "1cde3585",
   "metadata": {},
   "outputs": [
    {
     "data": {
      "text/html": [
       "<div>\n",
       "<style scoped>\n",
       "    .dataframe tbody tr th:only-of-type {\n",
       "        vertical-align: middle;\n",
       "    }\n",
       "\n",
       "    .dataframe tbody tr th {\n",
       "        vertical-align: top;\n",
       "    }\n",
       "\n",
       "    .dataframe thead th {\n",
       "        text-align: right;\n",
       "    }\n",
       "</style>\n",
       "<table border=\"1\" class=\"dataframe\">\n",
       "  <thead>\n",
       "    <tr style=\"text-align: right;\">\n",
       "      <th></th>\n",
       "      <th>title</th>\n",
       "      <th>text</th>\n",
       "      <th>subject</th>\n",
       "      <th>date</th>\n",
       "    </tr>\n",
       "  </thead>\n",
       "  <tbody>\n",
       "    <tr>\n",
       "      <th>0</th>\n",
       "      <td>As U.S. budget fight looms, Republicans flip t...</td>\n",
       "      <td>WASHINGTON (Reuters) - The head of a conservat...</td>\n",
       "      <td>politicsNews</td>\n",
       "      <td>December 31, 2017</td>\n",
       "    </tr>\n",
       "    <tr>\n",
       "      <th>1</th>\n",
       "      <td>U.S. military to accept transgender recruits o...</td>\n",
       "      <td>WASHINGTON (Reuters) - Transgender people will...</td>\n",
       "      <td>politicsNews</td>\n",
       "      <td>December 29, 2017</td>\n",
       "    </tr>\n",
       "    <tr>\n",
       "      <th>2</th>\n",
       "      <td>Senior U.S. Republican senator: 'Let Mr. Muell...</td>\n",
       "      <td>WASHINGTON (Reuters) - The special counsel inv...</td>\n",
       "      <td>politicsNews</td>\n",
       "      <td>December 31, 2017</td>\n",
       "    </tr>\n",
       "    <tr>\n",
       "      <th>3</th>\n",
       "      <td>FBI Russia probe helped by Australian diplomat...</td>\n",
       "      <td>WASHINGTON (Reuters) - Trump campaign adviser ...</td>\n",
       "      <td>politicsNews</td>\n",
       "      <td>December 30, 2017</td>\n",
       "    </tr>\n",
       "    <tr>\n",
       "      <th>4</th>\n",
       "      <td>Trump wants Postal Service to charge 'much mor...</td>\n",
       "      <td>SEATTLE/WASHINGTON (Reuters) - President Donal...</td>\n",
       "      <td>politicsNews</td>\n",
       "      <td>December 29, 2017</td>\n",
       "    </tr>\n",
       "  </tbody>\n",
       "</table>\n",
       "</div>"
      ],
      "text/plain": [
       "                                               title  \\\n",
       "0  As U.S. budget fight looms, Republicans flip t...   \n",
       "1  U.S. military to accept transgender recruits o...   \n",
       "2  Senior U.S. Republican senator: 'Let Mr. Muell...   \n",
       "3  FBI Russia probe helped by Australian diplomat...   \n",
       "4  Trump wants Postal Service to charge 'much mor...   \n",
       "\n",
       "                                                text       subject  \\\n",
       "0  WASHINGTON (Reuters) - The head of a conservat...  politicsNews   \n",
       "1  WASHINGTON (Reuters) - Transgender people will...  politicsNews   \n",
       "2  WASHINGTON (Reuters) - The special counsel inv...  politicsNews   \n",
       "3  WASHINGTON (Reuters) - Trump campaign adviser ...  politicsNews   \n",
       "4  SEATTLE/WASHINGTON (Reuters) - President Donal...  politicsNews   \n",
       "\n",
       "                 date  \n",
       "0  December 31, 2017   \n",
       "1  December 29, 2017   \n",
       "2  December 31, 2017   \n",
       "3  December 30, 2017   \n",
       "4  December 29, 2017   "
      ]
     },
     "execution_count": 16,
     "metadata": {},
     "output_type": "execute_result"
    }
   ],
   "source": [
    "true_news = pd.read_csv(\"True.csv\")\n",
    "true_news.head()"
   ]
  },
  {
   "cell_type": "code",
   "execution_count": 17,
   "id": "19bc63ca",
   "metadata": {},
   "outputs": [
    {
     "data": {
      "text/html": [
       "<div>\n",
       "<style scoped>\n",
       "    .dataframe tbody tr th:only-of-type {\n",
       "        vertical-align: middle;\n",
       "    }\n",
       "\n",
       "    .dataframe tbody tr th {\n",
       "        vertical-align: top;\n",
       "    }\n",
       "\n",
       "    .dataframe thead th {\n",
       "        text-align: right;\n",
       "    }\n",
       "</style>\n",
       "<table border=\"1\" class=\"dataframe\">\n",
       "  <thead>\n",
       "    <tr style=\"text-align: right;\">\n",
       "      <th></th>\n",
       "      <th>title</th>\n",
       "      <th>text</th>\n",
       "      <th>subject</th>\n",
       "      <th>date</th>\n",
       "      <th>fake</th>\n",
       "    </tr>\n",
       "  </thead>\n",
       "  <tbody>\n",
       "    <tr>\n",
       "      <th>0</th>\n",
       "      <td>Donald Trump Sends Out Embarrassing New Year’...</td>\n",
       "      <td>Donald Trump just couldn t wish all Americans ...</td>\n",
       "      <td>News</td>\n",
       "      <td>December 31, 2017</td>\n",
       "      <td>1</td>\n",
       "    </tr>\n",
       "    <tr>\n",
       "      <th>1</th>\n",
       "      <td>Drunk Bragging Trump Staffer Started Russian ...</td>\n",
       "      <td>House Intelligence Committee Chairman Devin Nu...</td>\n",
       "      <td>News</td>\n",
       "      <td>December 31, 2017</td>\n",
       "      <td>1</td>\n",
       "    </tr>\n",
       "    <tr>\n",
       "      <th>2</th>\n",
       "      <td>Sheriff David Clarke Becomes An Internet Joke...</td>\n",
       "      <td>On Friday, it was revealed that former Milwauk...</td>\n",
       "      <td>News</td>\n",
       "      <td>December 30, 2017</td>\n",
       "      <td>1</td>\n",
       "    </tr>\n",
       "    <tr>\n",
       "      <th>3</th>\n",
       "      <td>Trump Is So Obsessed He Even Has Obama’s Name...</td>\n",
       "      <td>On Christmas day, Donald Trump announced that ...</td>\n",
       "      <td>News</td>\n",
       "      <td>December 29, 2017</td>\n",
       "      <td>1</td>\n",
       "    </tr>\n",
       "    <tr>\n",
       "      <th>4</th>\n",
       "      <td>Pope Francis Just Called Out Donald Trump Dur...</td>\n",
       "      <td>Pope Francis used his annual Christmas Day mes...</td>\n",
       "      <td>News</td>\n",
       "      <td>December 25, 2017</td>\n",
       "      <td>1</td>\n",
       "    </tr>\n",
       "  </tbody>\n",
       "</table>\n",
       "</div>"
      ],
      "text/plain": [
       "                                               title  \\\n",
       "0   Donald Trump Sends Out Embarrassing New Year’...   \n",
       "1   Drunk Bragging Trump Staffer Started Russian ...   \n",
       "2   Sheriff David Clarke Becomes An Internet Joke...   \n",
       "3   Trump Is So Obsessed He Even Has Obama’s Name...   \n",
       "4   Pope Francis Just Called Out Donald Trump Dur...   \n",
       "\n",
       "                                                text subject  \\\n",
       "0  Donald Trump just couldn t wish all Americans ...    News   \n",
       "1  House Intelligence Committee Chairman Devin Nu...    News   \n",
       "2  On Friday, it was revealed that former Milwauk...    News   \n",
       "3  On Christmas day, Donald Trump announced that ...    News   \n",
       "4  Pope Francis used his annual Christmas Day mes...    News   \n",
       "\n",
       "                date  fake  \n",
       "0  December 31, 2017     1  \n",
       "1  December 31, 2017     1  \n",
       "2  December 30, 2017     1  \n",
       "3  December 29, 2017     1  \n",
       "4  December 25, 2017     1  "
      ]
     },
     "execution_count": 17,
     "metadata": {},
     "output_type": "execute_result"
    }
   ],
   "source": [
    "# Create a column with fake=1 in fake_news dataset\n",
    "fake_news['fake']=1\n",
    "fake_news.head()"
   ]
  },
  {
   "cell_type": "code",
   "execution_count": 18,
   "id": "80091c75",
   "metadata": {},
   "outputs": [
    {
     "data": {
      "text/html": [
       "<div>\n",
       "<style scoped>\n",
       "    .dataframe tbody tr th:only-of-type {\n",
       "        vertical-align: middle;\n",
       "    }\n",
       "\n",
       "    .dataframe tbody tr th {\n",
       "        vertical-align: top;\n",
       "    }\n",
       "\n",
       "    .dataframe thead th {\n",
       "        text-align: right;\n",
       "    }\n",
       "</style>\n",
       "<table border=\"1\" class=\"dataframe\">\n",
       "  <thead>\n",
       "    <tr style=\"text-align: right;\">\n",
       "      <th></th>\n",
       "      <th>title</th>\n",
       "      <th>text</th>\n",
       "      <th>subject</th>\n",
       "      <th>date</th>\n",
       "      <th>fake</th>\n",
       "    </tr>\n",
       "  </thead>\n",
       "  <tbody>\n",
       "    <tr>\n",
       "      <th>0</th>\n",
       "      <td>As U.S. budget fight looms, Republicans flip t...</td>\n",
       "      <td>WASHINGTON (Reuters) - The head of a conservat...</td>\n",
       "      <td>politicsNews</td>\n",
       "      <td>December 31, 2017</td>\n",
       "      <td>0</td>\n",
       "    </tr>\n",
       "    <tr>\n",
       "      <th>1</th>\n",
       "      <td>U.S. military to accept transgender recruits o...</td>\n",
       "      <td>WASHINGTON (Reuters) - Transgender people will...</td>\n",
       "      <td>politicsNews</td>\n",
       "      <td>December 29, 2017</td>\n",
       "      <td>0</td>\n",
       "    </tr>\n",
       "    <tr>\n",
       "      <th>2</th>\n",
       "      <td>Senior U.S. Republican senator: 'Let Mr. Muell...</td>\n",
       "      <td>WASHINGTON (Reuters) - The special counsel inv...</td>\n",
       "      <td>politicsNews</td>\n",
       "      <td>December 31, 2017</td>\n",
       "      <td>0</td>\n",
       "    </tr>\n",
       "    <tr>\n",
       "      <th>3</th>\n",
       "      <td>FBI Russia probe helped by Australian diplomat...</td>\n",
       "      <td>WASHINGTON (Reuters) - Trump campaign adviser ...</td>\n",
       "      <td>politicsNews</td>\n",
       "      <td>December 30, 2017</td>\n",
       "      <td>0</td>\n",
       "    </tr>\n",
       "    <tr>\n",
       "      <th>4</th>\n",
       "      <td>Trump wants Postal Service to charge 'much mor...</td>\n",
       "      <td>SEATTLE/WASHINGTON (Reuters) - President Donal...</td>\n",
       "      <td>politicsNews</td>\n",
       "      <td>December 29, 2017</td>\n",
       "      <td>0</td>\n",
       "    </tr>\n",
       "  </tbody>\n",
       "</table>\n",
       "</div>"
      ],
      "text/plain": [
       "                                               title  \\\n",
       "0  As U.S. budget fight looms, Republicans flip t...   \n",
       "1  U.S. military to accept transgender recruits o...   \n",
       "2  Senior U.S. Republican senator: 'Let Mr. Muell...   \n",
       "3  FBI Russia probe helped by Australian diplomat...   \n",
       "4  Trump wants Postal Service to charge 'much mor...   \n",
       "\n",
       "                                                text       subject  \\\n",
       "0  WASHINGTON (Reuters) - The head of a conservat...  politicsNews   \n",
       "1  WASHINGTON (Reuters) - Transgender people will...  politicsNews   \n",
       "2  WASHINGTON (Reuters) - The special counsel inv...  politicsNews   \n",
       "3  WASHINGTON (Reuters) - Trump campaign adviser ...  politicsNews   \n",
       "4  SEATTLE/WASHINGTON (Reuters) - President Donal...  politicsNews   \n",
       "\n",
       "                 date  fake  \n",
       "0  December 31, 2017      0  \n",
       "1  December 29, 2017      0  \n",
       "2  December 31, 2017      0  \n",
       "3  December 30, 2017      0  \n",
       "4  December 29, 2017      0  "
      ]
     },
     "execution_count": 18,
     "metadata": {},
     "output_type": "execute_result"
    }
   ],
   "source": [
    "# Create a column with fake=0 in true_news dataset\n",
    "true_news['fake'] = 0\n",
    "true_news.head()"
   ]
  },
  {
   "cell_type": "code",
   "execution_count": 19,
   "id": "2557496f",
   "metadata": {},
   "outputs": [
    {
     "data": {
      "text/html": [
       "<div>\n",
       "<style scoped>\n",
       "    .dataframe tbody tr th:only-of-type {\n",
       "        vertical-align: middle;\n",
       "    }\n",
       "\n",
       "    .dataframe tbody tr th {\n",
       "        vertical-align: top;\n",
       "    }\n",
       "\n",
       "    .dataframe thead th {\n",
       "        text-align: right;\n",
       "    }\n",
       "</style>\n",
       "<table border=\"1\" class=\"dataframe\">\n",
       "  <thead>\n",
       "    <tr style=\"text-align: right;\">\n",
       "      <th></th>\n",
       "      <th>title</th>\n",
       "      <th>text</th>\n",
       "      <th>subject</th>\n",
       "      <th>date</th>\n",
       "      <th>fake</th>\n",
       "    </tr>\n",
       "  </thead>\n",
       "  <tbody>\n",
       "    <tr>\n",
       "      <th>10989</th>\n",
       "      <td>#SteveBannon’s Secret “To Do” List Is Accident...</td>\n",
       "      <td>President Trump s Chief Strategist Steve Banno...</td>\n",
       "      <td>politics</td>\n",
       "      <td>May 3, 2017</td>\n",
       "      <td>1</td>\n",
       "    </tr>\n",
       "    <tr>\n",
       "      <th>17884</th>\n",
       "      <td>'Brexit not a game,' EU's Barnier says</td>\n",
       "      <td>LONDON (Reuters) -  Brexit is not a game,  the...</td>\n",
       "      <td>worldnews</td>\n",
       "      <td>October 10, 2017</td>\n",
       "      <td>0</td>\n",
       "    </tr>\n",
       "    <tr>\n",
       "      <th>13295</th>\n",
       "      <td>HERE’S WHAT HILLARY’S “FAIR GROWTH” Economic P...</td>\n",
       "      <td>If you ve never heard Betsy McCaughey speak   ...</td>\n",
       "      <td>politics</td>\n",
       "      <td>Aug 9, 2016</td>\n",
       "      <td>1</td>\n",
       "    </tr>\n",
       "    <tr>\n",
       "      <th>4521</th>\n",
       "      <td>Trump presses China on North Korea ahead of Xi...</td>\n",
       "      <td>WASHINGTON (Reuters) - U.S. President Donald T...</td>\n",
       "      <td>politicsNews</td>\n",
       "      <td>April 2, 2017</td>\n",
       "      <td>0</td>\n",
       "    </tr>\n",
       "    <tr>\n",
       "      <th>1465</th>\n",
       "      <td>Factbox: Price resignation is latest Trump adm...</td>\n",
       "      <td>(Reuters) - U.S. Health and Human Services Sec...</td>\n",
       "      <td>politicsNews</td>\n",
       "      <td>September 29, 2017</td>\n",
       "      <td>0</td>\n",
       "    </tr>\n",
       "  </tbody>\n",
       "</table>\n",
       "</div>"
      ],
      "text/plain": [
       "                                                   title  \\\n",
       "10989  #SteveBannon’s Secret “To Do” List Is Accident...   \n",
       "17884             'Brexit not a game,' EU's Barnier says   \n",
       "13295  HERE’S WHAT HILLARY’S “FAIR GROWTH” Economic P...   \n",
       "4521   Trump presses China on North Korea ahead of Xi...   \n",
       "1465   Factbox: Price resignation is latest Trump adm...   \n",
       "\n",
       "                                                    text       subject  \\\n",
       "10989  President Trump s Chief Strategist Steve Banno...      politics   \n",
       "17884  LONDON (Reuters) -  Brexit is not a game,  the...     worldnews   \n",
       "13295  If you ve never heard Betsy McCaughey speak   ...      politics   \n",
       "4521   WASHINGTON (Reuters) - U.S. President Donald T...  politicsNews   \n",
       "1465   (Reuters) - U.S. Health and Human Services Sec...  politicsNews   \n",
       "\n",
       "                      date  fake  \n",
       "10989          May 3, 2017     1  \n",
       "17884    October 10, 2017      0  \n",
       "13295          Aug 9, 2016     1  \n",
       "4521        April 2, 2017      0  \n",
       "1465   September 29, 2017      0  "
      ]
     },
     "execution_count": 19,
     "metadata": {},
     "output_type": "execute_result"
    }
   ],
   "source": [
    "# Concat two fake and true news\n",
    "news = pd.concat([fake_news, true_news])\n",
    "news.sample(5)"
   ]
  },
  {
   "cell_type": "code",
   "execution_count": 20,
   "id": "32646143",
   "metadata": {},
   "outputs": [
    {
     "data": {
      "text/plain": [
       "title      0\n",
       "text       0\n",
       "subject    0\n",
       "date       0\n",
       "fake       0\n",
       "dtype: int64"
      ]
     },
     "execution_count": 20,
     "metadata": {},
     "output_type": "execute_result"
    }
   ],
   "source": [
    "# Check for any null values\n",
    "news.isna().sum()"
   ]
  },
  {
   "cell_type": "code",
   "execution_count": 21,
   "id": "7cc5d045",
   "metadata": {},
   "outputs": [
    {
     "name": "stdout",
     "output_type": "stream",
     "text": [
      "<class 'pandas.core.frame.DataFrame'>\n",
      "Int64Index: 44898 entries, 0 to 21416\n",
      "Data columns (total 5 columns):\n",
      " #   Column   Non-Null Count  Dtype \n",
      "---  ------   --------------  ----- \n",
      " 0   title    44898 non-null  object\n",
      " 1   text     44898 non-null  object\n",
      " 2   subject  44898 non-null  object\n",
      " 3   date     44898 non-null  object\n",
      " 4   fake     44898 non-null  int64 \n",
      "dtypes: int64(1), object(4)\n",
      "memory usage: 2.1+ MB\n"
     ]
    }
   ],
   "source": [
    "# Check the info\n",
    "news.info()"
   ]
  },
  {
   "cell_type": "markdown",
   "id": "e7d6ff08",
   "metadata": {},
   "source": [
    "### Exploratory Data Analysis and Data Visualizations"
   ]
  },
  {
   "cell_type": "code",
   "execution_count": 22,
   "id": "5c4daf50",
   "metadata": {},
   "outputs": [
    {
     "data": {
      "text/plain": [
       "<AxesSubplot:xlabel='fake', ylabel='count'>"
      ]
     },
     "execution_count": 22,
     "metadata": {},
     "output_type": "execute_result"
    },
    {
     "data": {
      "image/png": "[encoded data removed]",
      "text/plain": [
       "<Figure size 432x288 with 1 Axes>"
      ]
     },
     "metadata": {},
     "output_type": "display_data"
    }
   ],
   "source": [
    "# Explore the target variable\n",
    "sns.countplot(x='fake', data=news)"
   ]
  },
  {
   "cell_type": "code",
   "execution_count": 23,
   "id": "f99c1fb5",
   "metadata": {},
   "outputs": [
    {
     "data": {
      "text/plain": [
       "0    Donald Trump just couldn t wish all Americans ...\n",
       "1    House Intelligence Committee Chairman Devin Nu...\n",
       "Name: text, dtype: object"
      ]
     },
     "execution_count": 23,
     "metadata": {},
     "output_type": "execute_result"
    }
   ],
   "source": [
    "# Explore 2 text for the fake dataset\n",
    "news[news['fake']==1]['text'].head(2)"
   ]
  },
  {
   "cell_type": "code",
   "execution_count": 24,
   "id": "962a73dc",
   "metadata": {},
   "outputs": [
    {
     "data": {
      "text/plain": [
       "0    WASHINGTON (Reuters) - The head of a conservat...\n",
       "1    WASHINGTON (Reuters) - Transgender people will...\n",
       "Name: text, dtype: object"
      ]
     },
     "execution_count": 24,
     "metadata": {},
     "output_type": "execute_result"
    }
   ],
   "source": [
    "# Explore 2 text for true news\n",
    "news[news['fake']==0]['text'].head(2)"
   ]
  },
  {
   "cell_type": "code",
   "execution_count": 25,
   "id": "675f3ccc",
   "metadata": {},
   "outputs": [
    {
     "data": {
      "text/plain": [
       "<AxesSubplot:xlabel='subject', ylabel='count'>"
      ]
     },
     "execution_count": 25,
     "metadata": {},
     "output_type": "execute_result"
    },
    {
     "data": {
      "image/png": "[encoded data removed]",
      "text/plain": [
       "<Figure size 720x360 with 1 Axes>"
      ]
     },
     "metadata": {},
     "output_type": "display_data"
    }
   ],
   "source": [
    "# Explore the subject column\n",
    "plt.figure(figsize=(10,5))\n",
    "sns.countplot(x='subject', data=news, hue='fake')"
   ]
  },
  {
   "cell_type": "markdown",
   "id": "ac3df045",
   "metadata": {},
   "source": [
    "### Feature Engineering"
   ]
  },
  {
   "cell_type": "markdown",
   "id": "d8f39dab",
   "metadata": {},
   "source": [
    "We will create a new columns calld Month and Year from Date and Analyse whether fake or true news has some correlation with Month or Year in the timeline"
   ]
  },
  {
   "cell_type": "code",
   "execution_count": 26,
   "id": "56f94637",
   "metadata": {},
   "outputs": [
    {
     "data": {
      "text/html": [
       "<div>\n",
       "<style scoped>\n",
       "    .dataframe tbody tr th:only-of-type {\n",
       "        vertical-align: middle;\n",
       "    }\n",
       "\n",
       "    .dataframe tbody tr th {\n",
       "        vertical-align: top;\n",
       "    }\n",
       "\n",
       "    .dataframe thead th {\n",
       "        text-align: right;\n",
       "    }\n",
       "</style>\n",
       "<table border=\"1\" class=\"dataframe\">\n",
       "  <thead>\n",
       "    <tr style=\"text-align: right;\">\n",
       "      <th></th>\n",
       "      <th>title</th>\n",
       "      <th>text</th>\n",
       "      <th>subject</th>\n",
       "      <th>date</th>\n",
       "      <th>fake</th>\n",
       "      <th>Year</th>\n",
       "      <th>Month</th>\n",
       "    </tr>\n",
       "  </thead>\n",
       "  <tbody>\n",
       "    <tr>\n",
       "      <th>0</th>\n",
       "      <td>Donald Trump Sends Out Embarrassing New Year’...</td>\n",
       "      <td>Donald Trump just couldn t wish all Americans ...</td>\n",
       "      <td>News</td>\n",
       "      <td>2017-12-31</td>\n",
       "      <td>1</td>\n",
       "      <td>2017.0</td>\n",
       "      <td>12.0</td>\n",
       "    </tr>\n",
       "    <tr>\n",
       "      <th>1</th>\n",
       "      <td>Drunk Bragging Trump Staffer Started Russian ...</td>\n",
       "      <td>House Intelligence Committee Chairman Devin Nu...</td>\n",
       "      <td>News</td>\n",
       "      <td>2017-12-31</td>\n",
       "      <td>1</td>\n",
       "      <td>2017.0</td>\n",
       "      <td>12.0</td>\n",
       "    </tr>\n",
       "    <tr>\n",
       "      <th>2</th>\n",
       "      <td>Sheriff David Clarke Becomes An Internet Joke...</td>\n",
       "      <td>On Friday, it was revealed that former Milwauk...</td>\n",
       "      <td>News</td>\n",
       "      <td>2017-12-30</td>\n",
       "      <td>1</td>\n",
       "      <td>2017.0</td>\n",
       "      <td>12.0</td>\n",
       "    </tr>\n",
       "    <tr>\n",
       "      <th>3</th>\n",
       "      <td>Trump Is So Obsessed He Even Has Obama’s Name...</td>\n",
       "      <td>On Christmas day, Donald Trump announced that ...</td>\n",
       "      <td>News</td>\n",
       "      <td>2017-12-29</td>\n",
       "      <td>1</td>\n",
       "      <td>2017.0</td>\n",
       "      <td>12.0</td>\n",
       "    </tr>\n",
       "    <tr>\n",
       "      <th>4</th>\n",
       "      <td>Pope Francis Just Called Out Donald Trump Dur...</td>\n",
       "      <td>Pope Francis used his annual Christmas Day mes...</td>\n",
       "      <td>News</td>\n",
       "      <td>2017-12-25</td>\n",
       "      <td>1</td>\n",
       "      <td>2017.0</td>\n",
       "      <td>12.0</td>\n",
       "    </tr>\n",
       "  </tbody>\n",
       "</table>\n",
       "</div>"
      ],
      "text/plain": [
       "                                               title  \\\n",
       "0   Donald Trump Sends Out Embarrassing New Year’...   \n",
       "1   Drunk Bragging Trump Staffer Started Russian ...   \n",
       "2   Sheriff David Clarke Becomes An Internet Joke...   \n",
       "3   Trump Is So Obsessed He Even Has Obama’s Name...   \n",
       "4   Pope Francis Just Called Out Donald Trump Dur...   \n",
       "\n",
       "                                                text subject       date  fake  \\\n",
       "0  Donald Trump just couldn t wish all Americans ...    News 2017-12-31     1   \n",
       "1  House Intelligence Committee Chairman Devin Nu...    News 2017-12-31     1   \n",
       "2  On Friday, it was revealed that former Milwauk...    News 2017-12-30     1   \n",
       "3  On Christmas day, Donald Trump announced that ...    News 2017-12-29     1   \n",
       "4  Pope Francis used his annual Christmas Day mes...    News 2017-12-25     1   \n",
       "\n",
       "     Year  Month  \n",
       "0  2017.0   12.0  \n",
       "1  2017.0   12.0  \n",
       "2  2017.0   12.0  \n",
       "3  2017.0   12.0  \n",
       "4  2017.0   12.0  "
      ]
     },
     "execution_count": 26,
     "metadata": {},
     "output_type": "execute_result"
    }
   ],
   "source": [
    "news['date'] = pd.to_datetime(news['date'], errors='coerce')\n",
    "news['Year'] = news['date'].dt.year\n",
    "news['Month'] = news['date'].dt.month\n",
    "\n",
    "news.head()"
   ]
  },
  {
   "cell_type": "code",
   "execution_count": 27,
   "id": "69676783",
   "metadata": {},
   "outputs": [
    {
     "data": {
      "text/plain": [
       "<AxesSubplot:xlabel='Year', ylabel='count'>"
      ]
     },
     "execution_count": 27,
     "metadata": {},
     "output_type": "execute_result"
    },
    {
     "data": {
      "image/png": "[encoded data removed]",
      "text/plain": [
       "<Figure size 432x288 with 1 Axes>"
      ]
     },
     "metadata": {},
     "output_type": "display_data"
    }
   ],
   "source": [
    "# check the impact of year on tha target\n",
    "sns.countplot(x='Year', data=news, hue='fake')"
   ]
  },
  {
   "cell_type": "code",
   "execution_count": 28,
   "id": "d6a63f0f",
   "metadata": {},
   "outputs": [
    {
     "data": {
      "text/plain": [
       "<AxesSubplot:xlabel='Month', ylabel='count'>"
      ]
     },
     "execution_count": 28,
     "metadata": {},
     "output_type": "execute_result"
    },
    {
     "data": {
      "image/png": "[encoded data removed]",
      "text/plain": [
       "<Figure size 432x288 with 1 Axes>"
      ]
     },
     "metadata": {},
     "output_type": "display_data"
    }
   ],
   "source": [
    "# Check the impact of Month on the target variable\n",
    "sns.countplot(x='Month', data=news, hue='fake')"
   ]
  },
  {
   "cell_type": "markdown",
   "id": "f8b08692",
   "metadata": {},
   "source": [
    "We will combine the title and text column"
   ]
  },
  {
   "cell_type": "code",
   "execution_count": 29,
   "id": "21c13a43",
   "metadata": {},
   "outputs": [
    {
     "data": {
      "text/html": [
       "<div>\n",
       "<style scoped>\n",
       "    .dataframe tbody tr th:only-of-type {\n",
       "        vertical-align: middle;\n",
       "    }\n",
       "\n",
       "    .dataframe tbody tr th {\n",
       "        vertical-align: top;\n",
       "    }\n",
       "\n",
       "    .dataframe thead th {\n",
       "        text-align: right;\n",
       "    }\n",
       "</style>\n",
       "<table border=\"1\" class=\"dataframe\">\n",
       "  <thead>\n",
       "    <tr style=\"text-align: right;\">\n",
       "      <th></th>\n",
       "      <th>text</th>\n",
       "      <th>subject</th>\n",
       "      <th>date</th>\n",
       "      <th>fake</th>\n",
       "      <th>Year</th>\n",
       "      <th>Month</th>\n",
       "    </tr>\n",
       "  </thead>\n",
       "  <tbody>\n",
       "    <tr>\n",
       "      <th>0</th>\n",
       "      <td>Donald Trump Sends Out Embarrassing New Year’...</td>\n",
       "      <td>News</td>\n",
       "      <td>2017-12-31</td>\n",
       "      <td>1</td>\n",
       "      <td>2017.0</td>\n",
       "      <td>12.0</td>\n",
       "    </tr>\n",
       "    <tr>\n",
       "      <th>1</th>\n",
       "      <td>Drunk Bragging Trump Staffer Started Russian ...</td>\n",
       "      <td>News</td>\n",
       "      <td>2017-12-31</td>\n",
       "      <td>1</td>\n",
       "      <td>2017.0</td>\n",
       "      <td>12.0</td>\n",
       "    </tr>\n",
       "    <tr>\n",
       "      <th>2</th>\n",
       "      <td>Sheriff David Clarke Becomes An Internet Joke...</td>\n",
       "      <td>News</td>\n",
       "      <td>2017-12-30</td>\n",
       "      <td>1</td>\n",
       "      <td>2017.0</td>\n",
       "      <td>12.0</td>\n",
       "    </tr>\n",
       "    <tr>\n",
       "      <th>3</th>\n",
       "      <td>Trump Is So Obsessed He Even Has Obama’s Name...</td>\n",
       "      <td>News</td>\n",
       "      <td>2017-12-29</td>\n",
       "      <td>1</td>\n",
       "      <td>2017.0</td>\n",
       "      <td>12.0</td>\n",
       "    </tr>\n",
       "    <tr>\n",
       "      <th>4</th>\n",
       "      <td>Pope Francis Just Called Out Donald Trump Dur...</td>\n",
       "      <td>News</td>\n",
       "      <td>2017-12-25</td>\n",
       "      <td>1</td>\n",
       "      <td>2017.0</td>\n",
       "      <td>12.0</td>\n",
       "    </tr>\n",
       "  </tbody>\n",
       "</table>\n",
       "</div>"
      ],
      "text/plain": [
       "                                                text subject       date  fake  \\\n",
       "0   Donald Trump Sends Out Embarrassing New Year’...    News 2017-12-31     1   \n",
       "1   Drunk Bragging Trump Staffer Started Russian ...    News 2017-12-31     1   \n",
       "2   Sheriff David Clarke Becomes An Internet Joke...    News 2017-12-30     1   \n",
       "3   Trump Is So Obsessed He Even Has Obama’s Name...    News 2017-12-29     1   \n",
       "4   Pope Francis Just Called Out Donald Trump Dur...    News 2017-12-25     1   \n",
       "\n",
       "     Year  Month  \n",
       "0  2017.0   12.0  \n",
       "1  2017.0   12.0  \n",
       "2  2017.0   12.0  \n",
       "3  2017.0   12.0  \n",
       "4  2017.0   12.0  "
      ]
     },
     "execution_count": 29,
     "metadata": {},
     "output_type": "execute_result"
    }
   ],
   "source": [
    "news['text'] = news['title'] + news['text']\n",
    "news.drop(labels=['title'], axis=1,inplace=True)\n",
    "news.head()"
   ]
  },
  {
   "cell_type": "markdown",
   "id": "a7be1d7e",
   "metadata": {},
   "source": [
    "### Preparing the final data"
   ]
  },
  {
   "cell_type": "markdown",
   "id": "889e5f12",
   "metadata": {},
   "source": [
    "\n",
    "We will remove the subject attribute - Since it perfectly distributes the target variable We will remove the Year attribute - This also has a clear division for the target variable We will remove the Month Attribute - This also has a very clear approach of demarcating the target variable\n",
    "\n",
    "For now we will just go ahead with the \"text attribute\""
   ]
  },
  {
   "cell_type": "code",
   "execution_count": 30,
   "id": "13f1ee48",
   "metadata": {},
   "outputs": [
    {
     "data": {
      "text/html": [
       "<div>\n",
       "<style scoped>\n",
       "    .dataframe tbody tr th:only-of-type {\n",
       "        vertical-align: middle;\n",
       "    }\n",
       "\n",
       "    .dataframe tbody tr th {\n",
       "        vertical-align: top;\n",
       "    }\n",
       "\n",
       "    .dataframe thead th {\n",
       "        text-align: right;\n",
       "    }\n",
       "</style>\n",
       "<table border=\"1\" class=\"dataframe\">\n",
       "  <thead>\n",
       "    <tr style=\"text-align: right;\">\n",
       "      <th></th>\n",
       "      <th>text</th>\n",
       "      <th>fake</th>\n",
       "    </tr>\n",
       "  </thead>\n",
       "  <tbody>\n",
       "    <tr>\n",
       "      <th>0</th>\n",
       "      <td>Donald Trump Sends Out Embarrassing New Year’...</td>\n",
       "      <td>1</td>\n",
       "    </tr>\n",
       "    <tr>\n",
       "      <th>1</th>\n",
       "      <td>Drunk Bragging Trump Staffer Started Russian ...</td>\n",
       "      <td>1</td>\n",
       "    </tr>\n",
       "    <tr>\n",
       "      <th>2</th>\n",
       "      <td>Sheriff David Clarke Becomes An Internet Joke...</td>\n",
       "      <td>1</td>\n",
       "    </tr>\n",
       "    <tr>\n",
       "      <th>3</th>\n",
       "      <td>Trump Is So Obsessed He Even Has Obama’s Name...</td>\n",
       "      <td>1</td>\n",
       "    </tr>\n",
       "    <tr>\n",
       "      <th>4</th>\n",
       "      <td>Pope Francis Just Called Out Donald Trump Dur...</td>\n",
       "      <td>1</td>\n",
       "    </tr>\n",
       "  </tbody>\n",
       "</table>\n",
       "</div>"
      ],
      "text/plain": [
       "                                                text  fake\n",
       "0   Donald Trump Sends Out Embarrassing New Year’...     1\n",
       "1   Drunk Bragging Trump Staffer Started Russian ...     1\n",
       "2   Sheriff David Clarke Becomes An Internet Joke...     1\n",
       "3   Trump Is So Obsessed He Even Has Obama’s Name...     1\n",
       "4   Pope Francis Just Called Out Donald Trump Dur...     1"
      ]
     },
     "execution_count": 30,
     "metadata": {},
     "output_type": "execute_result"
    }
   ],
   "source": [
    "news.drop(labels=['subject','date', 'Year','Month'], axis=1, inplace=True)\n",
    "news.head()"
   ]
  },
  {
   "cell_type": "markdown",
   "id": "e5654bc9",
   "metadata": {},
   "source": [
    "### Split the dataset into training and testing"
   ]
  },
  {
   "cell_type": "markdown",
   "id": "04da16af",
   "metadata": {},
   "source": [
    "#### We will shuffle the dataframe and extract the feature and label\n"
   ]
  },
  {
   "cell_type": "code",
   "execution_count": 31,
   "id": "e251522e",
   "metadata": {},
   "outputs": [
    {
     "data": {
      "text/html": [
       "<div>\n",
       "<style scoped>\n",
       "    .dataframe tbody tr th:only-of-type {\n",
       "        vertical-align: middle;\n",
       "    }\n",
       "\n",
       "    .dataframe tbody tr th {\n",
       "        vertical-align: top;\n",
       "    }\n",
       "\n",
       "    .dataframe thead th {\n",
       "        text-align: right;\n",
       "    }\n",
       "</style>\n",
       "<table border=\"1\" class=\"dataframe\">\n",
       "  <thead>\n",
       "    <tr style=\"text-align: right;\">\n",
       "      <th></th>\n",
       "      <th>text</th>\n",
       "      <th>fake</th>\n",
       "    </tr>\n",
       "  </thead>\n",
       "  <tbody>\n",
       "    <tr>\n",
       "      <th>20984</th>\n",
       "      <td>Merkel wants EU to consider halting Turkish ac...</td>\n",
       "      <td>0</td>\n",
       "    </tr>\n",
       "    <tr>\n",
       "      <th>15768</th>\n",
       "      <td>Flanders premier calls on EU to take action on...</td>\n",
       "      <td>0</td>\n",
       "    </tr>\n",
       "    <tr>\n",
       "      <th>9635</th>\n",
       "      <td>Top U.S. official visits Vietnam to assess hum...</td>\n",
       "      <td>0</td>\n",
       "    </tr>\n",
       "    <tr>\n",
       "      <th>20846</th>\n",
       "      <td>Gupta emails still under investigation: top So...</td>\n",
       "      <td>0</td>\n",
       "    </tr>\n",
       "    <tr>\n",
       "      <th>22646</th>\n",
       "      <td>BATTLE OVER PRIVACY: Why the FBI’s Case Agains...</td>\n",
       "      <td>1</td>\n",
       "    </tr>\n",
       "  </tbody>\n",
       "</table>\n",
       "</div>"
      ],
      "text/plain": [
       "                                                    text  fake\n",
       "20984  Merkel wants EU to consider halting Turkish ac...     0\n",
       "15768  Flanders premier calls on EU to take action on...     0\n",
       "9635   Top U.S. official visits Vietnam to assess hum...     0\n",
       "20846  Gupta emails still under investigation: top So...     0\n",
       "22646  BATTLE OVER PRIVACY: Why the FBI’s Case Agains...     1"
      ]
     },
     "execution_count": 31,
     "metadata": {},
     "output_type": "execute_result"
    }
   ],
   "source": [
    "news = news.sample(frac=1)\n",
    "news.head()"
   ]
  },
  {
   "cell_type": "code",
   "execution_count": 33,
   "id": "c0253088",
   "metadata": {},
   "outputs": [],
   "source": [
    "# Split the dataset into training and testing\n",
    "from sklearn.model_selection import train_test_split\n",
    "\n",
    "train_sentences, val_sentences, train_labels, val_labels=train_test_split(news['text'].to_numpy(),\n",
    "                                                                            news['fake'].to_numpy(),\n",
    "                                                                            test_size=0.2,\n",
    "                                                                            random_state=42)"
   ]
  },
  {
   "cell_type": "code",
   "execution_count": 34,
   "id": "07a57786",
   "metadata": {},
   "outputs": [
    {
     "data": {
      "text/plain": [
       "(35918, 8980, 35918, 8980)"
      ]
     },
     "execution_count": 34,
     "metadata": {},
     "output_type": "execute_result"
    }
   ],
   "source": [
    "len(train_sentences),len(val_sentences),len(train_labels),len(val_labels)"
   ]
  },
  {
   "cell_type": "code",
   "execution_count": 35,
   "id": "70f247bf",
   "metadata": {},
   "outputs": [
    {
     "data": {
      "text/plain": [
       "(array(['NSA risks talent exodus amid morale slump, Trump fearsWASHINGTON (Reuters) - The National Security Agency risks a brain-drain of hackers and cyber spies due to a tumultuous reorganization and worries about the acrimonious relationship between the intelligence community and President Donald Trump, according to current and former NSA officials and cybersecurity industry sources. Half-a-dozen cybersecurity executives told Reuters they had witnessed a marked increase in the number of U.S. intelligence officers and government contractors seeking employment in the private sector since Trump took office on Jan. 20.  One of the executives, who would speak only on condition of anonymity, said he was stunned by the caliber of the would-be recruits. They are coming from a variety of government intelligence and law enforcement agencies, multiple executives said, and their interest stems in part from concerns about the direction of U.S intelligence agencies under Trump.   Retaining and recruiting talented technical personnel has become a top national security priority in recent years as Russia, China, Iran and other nation states and criminal groups have sharpened their cyber offensive abilities. NSA and other intelligence agencies have long struggled to deter some of their best employees from leaving for higher-paying jobs in Silicon Valley and elsewhere. The problem is especially acute at NSA, current and former officials said, due to a reorganization known as NSA21 that began last year and aims to merge the agency’s electronic eavesdropping and domestic cyber-security operations. The two-year overhaul includes expanding parts of NSA that deal with business management and human resources and putting them on par with research and engineering. The aim is to “ensure that we’re using all of our resources to maximum effect to accomplish our mission,” NSA Director Mike Rogers said. The changes include new management structures that have left some career employees uncertain about their missions and  prospects. Former employees say the reorganization has failed to address widespread concerns that the agency is falling behind in exploiting private-sector technological breakthroughs. A former top NSA official said he had been told by three current officials that budget problems meant there was too little money for promotions. That is especially important for younger employees, who sometimes need two jobs to make ends meet in the expensive Washington D.C. area, the official said. “Morale is as low as I’ve ever seen it,” said another former senior NSA official, who maintains close contact with current employees. Asked about the risk of losing talent from NSA and other agencies, White House spokesman Michael Anton said Trump had sought to reassure the intelligence community by visiting the CIA headquarters on his first full day in office. Anton also pointed to the military spending increase in Trump’s budget proposal released on Monday.  It will likely take more than a visit to the CIA to patch up relations with the intelligence community, the current and former officials said. Trump has attacked findings from intelligence agencies that Russia hacked emails belonging to Democratic Party operatives during the 2016 presidential campaign to help him win, though he did eventually accept the findings.  In January, Trump accused intelligence agencies of leaking  false information and said it was reminiscent of tactics used in Nazi Germany. The breadth of any exodus from the NSA and other intelligence agencies is difficult to quantify. The NSA has “seen a steady rise” in the attrition rate among its roughly 36,000 employees since 2009, and it now sits at a “little less than six percent,” according to an NSA spokesman. NSA director Michael Rogers said last year that the attrition rate was 3.3 percent in 2015, suggesting a sharp jump in departures since then. Several senior NSA officials who have left or plan to leave, including deputy director Richard Ledgett and the head of cyber defense, Curtis Dukes, have said their departures were unrelated to Trump or the reorganization. Some turnover is normal with any new administration, government and industry officials noted, and a stronger economy has also improved pay and prospects in the private sector.  “During this time the economy has been recovering from the recession, unemployment rates have been falling and the demand for highly skilled technical talent has been increasing,” an NSA spokesman said, when asked to comment on the reports of employee departures. In a statement, Kathy Hutson, NSA’s chief of human resources, said the agency continues “to attract amazing talent necessary to conduct the security mission the nation needs.” Some NSA veterans attribute the morale issues and staff departures to the leadership style of Rogers, who took over the spy agency in 2014 with the task of dousing an international furor caused by leaks from former contractor Edward Snowden. Concern about Rogers reached an apex last October, when former Defense Secretary Ash Carter and former Director of National Intelligence James Clapper recommended to then-President Barack Obama that Rogers be removed.  The NSA did not respond to a request for comment on the recommendation last fall that Rogers be replaced.  Rogers is now expected to retain his job at NSA for at least another year, according to former officials. Rogers acknowledged concerns about potential morale problems last month, telling a congressional committee that Trump’s broadsides against the intelligence community could create “a situation where our workforce decides to walk.”  Trump’s criticism of the intelligence community has exacerbated the stress caused by the reorganization at the NSA, said Susan Hennessey, a former NSA lawyer now with Brookings Institution.  The “tone coming from the White House makes an already difficult situation worse, by eroding the sense of common purpose and service,” she said.  A wave of departures of career personnel, Hennessey added,  “would represent an incalculable loss to national security.”  ',\n",
       "        'ALL ABOARD THE SHARIA LAW TRAIN: Germany Announces They Will Now Have Female ONLY SectionsWell that didn t take long In the trains between Leipzig and Chemnitz the MRB is setting up some compartments for women traveling alone and mothers with children. The background for the alterations is a corresponding demand, said Kleinrensing.Since December MRB, a subsidiary of the internationally active group Transdev, has been operating on the route and in response to the wishes of female customers, it wants to improve the service in the trains correspondingly.So, in the next few weeks, all trains in the REG Regional Express line, will get two female compartments, each with 12 seats. This actions also contributes to strengthening the feeling of security of female passengers, said Kleinrensing.Via: sz-online.de   S chsische Zeitung'],\n",
       "       dtype=object),\n",
       " array([0, 1, 1, 0, 0, 1, 0, 1, 1, 0], dtype=int64))"
      ]
     },
     "execution_count": 35,
     "metadata": {},
     "output_type": "execute_result"
    }
   ],
   "source": [
    "train_sentences[:2], train_labels[:10]"
   ]
  },
  {
   "cell_type": "markdown",
   "id": "3c5f13db",
   "metadata": {},
   "source": [
    "### Converting text into numbers"
   ]
  },
  {
   "cell_type": "markdown",
   "id": "b341679e",
   "metadata": {},
   "source": [
    "\n",
    "When dealing with a text problem, one of the first things you'll have to do before you cna build a model is to covert your text to numbers.\n",
    "\n",
    "There are a few ways to do this, namely:\n",
    "\n",
    "Tokenization -direct mapping of token (a token could be a word or a character ) to a number.\n",
    "Embedding - create a matrix of feature vector for each token (the size of the feature vector can be defined and this embedding can be learned)."
   ]
  },
  {
   "cell_type": "markdown",
   "id": "a463e2a5",
   "metadata": {},
   "source": [
    "## Text Vectorization (tokenization)"
   ]
  },
  {
   "cell_type": "code",
   "execution_count": 37,
   "id": "37640aa2",
   "metadata": {},
   "outputs": [
    {
     "data": {
      "text/plain": [
       "416"
      ]
     },
     "execution_count": 37,
     "metadata": {},
     "output_type": "execute_result"
    }
   ],
   "source": [
    "round(sum([len(i.split()) for i in train_sentences])/len(train_sentences)) #avg no.of tokens"
   ]
  },
  {
   "cell_type": "code",
   "execution_count": 38,
   "id": "349a11e0",
   "metadata": {},
   "outputs": [],
   "source": [
    "max_vocab_length = 10000\n",
    "max_length = 418\n",
    "\n",
    "\n",
    "from tensorflow.keras.layers.experimental.preprocessing import TextVectorization\n",
    "text_vectorizer = TextVectorization(max_tokens=max_vocab_length,\n",
    "                                   output_mode='int',\n",
    "                                   output_sequence_length=max_length)"
   ]
  },
  {
   "cell_type": "code",
   "execution_count": 39,
   "id": "ffcfe491",
   "metadata": {},
   "outputs": [],
   "source": [
    "text_vectorizer.adapt(train_sentences) # Fit the text vectorizer to the training text"
   ]
  },
  {
   "cell_type": "code",
   "execution_count": 40,
   "id": "e70a26c9",
   "metadata": {},
   "outputs": [
    {
     "data": {
      "text/plain": [
       "<tf.Tensor: shape=(1, 418), dtype=int64, numpy=\n",
       "array([[1711,   91,   25, 2914,    3,    1,    0,    0,    0,    0,    0,\n",
       "           0,    0,    0,    0,    0,    0,    0,    0,    0,    0,    0,\n",
       "           0,    0,    0,    0,    0,    0,    0,    0,    0,    0,    0,\n",
       "           0,    0,    0,    0,    0,    0,    0,    0,    0,    0,    0,\n",
       "           0,    0,    0,    0,    0,    0,    0,    0,    0,    0,    0,\n",
       "           0,    0,    0,    0,    0,    0,    0,    0,    0,    0,    0,\n",
       "           0,    0,    0,    0,    0,    0,    0,    0,    0,    0,    0,\n",
       "           0,    0,    0,    0,    0,    0,    0,    0,    0,    0,    0,\n",
       "           0,    0,    0,    0,    0,    0,    0,    0,    0,    0,    0,\n",
       "           0,    0,    0,    0,    0,    0,    0,    0,    0,    0,    0,\n",
       "           0,    0,    0,    0,    0,    0,    0,    0,    0,    0,    0,\n",
       "           0,    0,    0,    0,    0,    0,    0,    0,    0,    0,    0,\n",
       "           0,    0,    0,    0,    0,    0,    0,    0,    0,    0,    0,\n",
       "           0,    0,    0,    0,    0,    0,    0,    0,    0,    0,    0,\n",
       "           0,    0,    0,    0,    0,    0,    0,    0,    0,    0,    0,\n",
       "           0,    0,    0,    0,    0,    0,    0,    0,    0,    0,    0,\n",
       "           0,    0,    0,    0,    0,    0,    0,    0,    0,    0,    0,\n",
       "           0,    0,    0,    0,    0,    0,    0,    0,    0,    0,    0,\n",
       "           0,    0,    0,    0,    0,    0,    0,    0,    0,    0,    0,\n",
       "           0,    0,    0,    0,    0,    0,    0,    0,    0,    0,    0,\n",
       "           0,    0,    0,    0,    0,    0,    0,    0,    0,    0,    0,\n",
       "           0,    0,    0,    0,    0,    0,    0,    0,    0,    0,    0,\n",
       "           0,    0,    0,    0,    0,    0,    0,    0,    0,    0,    0,\n",
       "           0,    0,    0,    0,    0,    0,    0,    0,    0,    0,    0,\n",
       "           0,    0,    0,    0,    0,    0,    0,    0,    0,    0,    0,\n",
       "           0,    0,    0,    0,    0,    0,    0,    0,    0,    0,    0,\n",
       "           0,    0,    0,    0,    0,    0,    0,    0,    0,    0,    0,\n",
       "           0,    0,    0,    0,    0,    0,    0,    0,    0,    0,    0,\n",
       "           0,    0,    0,    0,    0,    0,    0,    0,    0,    0,    0,\n",
       "           0,    0,    0,    0,    0,    0,    0,    0,    0,    0,    0,\n",
       "           0,    0,    0,    0,    0,    0,    0,    0,    0,    0,    0,\n",
       "           0,    0,    0,    0,    0,    0,    0,    0,    0,    0,    0,\n",
       "           0,    0,    0,    0,    0,    0,    0,    0,    0,    0,    0,\n",
       "           0,    0,    0,    0,    0,    0,    0,    0,    0,    0,    0,\n",
       "           0,    0,    0,    0,    0,    0,    0,    0,    0,    0,    0,\n",
       "           0,    0,    0,    0,    0,    0,    0,    0,    0,    0,    0,\n",
       "           0,    0,    0,    0,    0,    0,    0,    0,    0,    0,    0,\n",
       "           0,    0,    0,    0,    0,    0,    0,    0,    0,    0,    0]],\n",
       "      dtype=int64)>"
      ]
     },
     "execution_count": 40,
     "metadata": {},
     "output_type": "execute_result"
    }
   ],
   "source": [
    "#Create a sample sentences and tekenize it\n",
    "sample_sentence = \"Please Do Not Forget To Upvoted\"\n",
    "text_vectorizer([sample_sentence])"
   ]
  },
  {
   "cell_type": "code",
   "execution_count": 41,
   "id": "09db60bc",
   "metadata": {},
   "outputs": [
    {
     "name": "stdout",
     "output_type": "stream",
     "text": [
      "Original text;\n",
      "NEW REPORT: OBAMAPHONE Program Stashed $9 BILLION In Private Bank Accounts…Exposes Massive Windfall For Phone CompaniesWho could forget the  Obamaphone Lady  from Cleveland, OH, who unashamedly told an interviewer she was voting for Obama because all minorities in Cleveland get a free Obamaphone from Obama, and  He s gonna do more!  She actually woke up and admitted that she, and other minorities had been played by Obama in a follow-up video at the bottom of the page.The controversial  Obamaphone  program, which pays for cellphones for the poor, is rife with fraud, according to a new government report released Thursday that found more than a third of enrollees may not even be qualified.Known officially as the Lifeline Program, the phone giveaway became a symbol of government waste in the previous administration. Now a new report from the Government Accountability Office bears out those concerns.The report, requested by Sen. Claire McCaskill, Missouri Democrat, also says the program has stashed some $9 billion in assets in private bank accounts rather than with the federal treasury, further increasing risks and depriving taxpayers of the full benefit of that money. A complete lack of oversight is causing this program to fail the American taxpayer   everything that could go wrong is going wrong,  said Mrs. McCaskill, ranking Democrat on the Senate s chief oversight committee and who is a former state auditor in Missouri. We re currently letting phone companies cash a government check every month with little more than the honor system to hold them accountable, and that simply can t continue,  she said. The program, run by the Federal Communications Commission, predates President Obama, but it gained attention during his administration when recipients began to associate the free phone with other benefits he doled out to the poor.   Washington TimesThe Daily Caller reported:A massive portion of Obamaphone recipients are receiving the benefit after lying on their applications, according to a new 90-page report from the Government Accountability Office (GAO).An undercover sting operation showed ineligible applications were approved 63 percent of the time, and a review that found that 36 to 65 percent of beneficiaries in various categories had lied in easily-detectable ways but were approved anyway.The fraud reached unheard-of proportions because the Federal Communications Commission let the task of screening for eligibility fall to phone companies that profit off of enrolling as many people as possible.GAO undercover investigators applied for free government phones 19 times using criteria that should have been rejected, and  we were approved to receive Lifeline services by 12 of the 19 Lifeline providers using fictitious eligibility documentation. All someone has to do to apply for free cell phone service is say that they are on another welfare program, such as food stamps or disability, known as SSI.When Congress considered reforms, phone companies took out daily full-page ads in publications read by Capitol Hill staffers. The wife of the CEO of TracFone, the largest beneficiary of Obamaphones, was a mega-fundraiser for former President Barack Obama.The cause of the fraud rates, shocking even by federal government standards, was always clear: The FCC allowed companies with a profit motive to sign up as many people as possible to determine eligibility.Phone companies swooped into housing projects in vans with neon flashing lights to register users. A woman approached by one such representative outside of a welfare office told The Daily Caller News Foundation Investigative Group the man encouraged her to enroll her two-year-old.The companies weren t checking eligibility, and the FCC wasn t ensuring they did or punishing those who didn t. Additionally, the FCC failed to provide many companies with the intra-government databases that would give them the ability to perform some checks, the GAO found.The Obamaphone Lady aka Michelle Dowry made an appearance on Alex Jones  show where she admitted to finally waking up, as she discovered that Barack Obama s presidency was a giant hoax. The only thing that Michele and the rest of the the minority community Obama promised to help got during his 8 years in office was a tax-payer funded  free  phone:\n",
      "\n",
      " Vectorized Version:\n"
     ]
    },
    {
     "data": {
      "text/plain": [
       "<tf.Tensor: shape=(1, 418), dtype=int64, numpy=\n",
       "array([[  61,  254,    1,  329,    1, 1135,  334,    7,  513,  748,    1,\n",
       "        1188,    1,   10,  971,    1,   84, 2914,    2,    1, 1484,   26,\n",
       "        2945, 2009,   30,    1,   86,   31, 8588,   52,   18,  666,   10,\n",
       "          75,   92,   56, 2511,    7, 2945,  127,    5,  392,    1,   26,\n",
       "          75,    6,   13,   11, 2307,   91,   49,   52,  361, 8073,   64,\n",
       "           6, 1686,    8,   52,    6,   82, 2511,   42,   45, 1590,   21,\n",
       "          75,    7,    5, 9666,  188,   27,    2, 2692,    4,    2,    1,\n",
       "        1480,    1,  329,   51, 5860,   10,    1,   10,    2, 1086,   12,\n",
       "           1,   17, 1093,  166,    3,    5,   61,   71,  254,  439,  209,\n",
       "           8,  343,   49,   79,    5, 1004,    4,    1,  119,   25,  107,\n",
       "          23,    1, 2563,   19,    2, 9865,  329,    2,  971,    1,  909,\n",
       "           5, 4797,    4,   71, 3311,    7,    2, 1083,  152,  103,    5,\n",
       "          61,  254,   26,    2,   71, 3984,  173, 5747,   55,  130,    1,\n",
       "         254, 2546,   21, 1326,    1,    1, 3165,  354,   63,  144,    2,\n",
       "         329,   22,    1,   83, 1135,  334,    7, 2259,    7,  513,  748,\n",
       "        1541,  710,   79,   17,    2,  170, 1496,  509, 2465, 2819,    6,\n",
       "           1, 2102,    4,    2,  535, 1752,    4,    8,  270,    5, 1346,\n",
       "        1297,    4, 2169,   12, 2907,   28,  329,    3, 2899,    2,  133,\n",
       "        2396,  771,    8,   84,  205,  849,   12,  136,  849,   14, 2640,\n",
       "           1, 4239,  354,    9,    2,  149,   11,  307, 2169,  231,    6,\n",
       "          30,   12,    5,  108,   59,    1,    7, 3165,   35,  169,  987,\n",
       "        3159,  971,  441, 1792,    5,   71, 1825,  256,  274,   17,  381,\n",
       "          49,   79,    2, 2064,  398,    3,  631,   93, 3177,    6,    8,\n",
       "         873,   74,   44,  447,   52,   14,    2,  329,  502,   21,    2,\n",
       "         170, 1431,  845,    1,   39,   75,   34,   16, 3053, 1170,  116,\n",
       "          20,  152,   60, 5430,  637,    3, 4149,    2,  392,  971,   17,\n",
       "          82, 1543,   13,    1,   55,    3,    2, 1086,  183,    1,  603,\n",
       "        3038,    1, 1188, 3931,    4,    1, 5430,   29, 2223,    2, 1752,\n",
       "          50, 1510,    9,   41, 4432,  166,    3,    5,   61,    1,  254,\n",
       "          26,    2,   71, 3984,  173,    1, 3766, 8083, 1238,  633, 8741,\n",
       "        4432,   47, 1242, 5051,  137,    4,    2,  100,    6,    5,  898,\n",
       "           8,  343,    8, 3715,    3, 4225,  137,    4, 9140,    7, 1545,\n",
       "        8171,   42, 2489,    7,    1, 1299,   34,   47, 1242,    1, 1093,\n",
       "        1260,    1,    1,   92,    2,  170, 1431,  845,  393,    2, 2776,\n",
       "           4, 4848,   10, 9315, 1572,    3,  971,  441,    8, 4170,  217,\n",
       "           4,    1,   19,  117,   46,   19,    1, 3766, 1834, 4166,   10,\n",
       "         392,   71, 4285, 1217,  268,  486, 7163,    8,  106,   24,   45,\n",
       "        1540,    6,   35,   47, 1242,    3, 1744, 9865,  690,   21,  769]],\n",
       "      dtype=int64)>"
      ]
     },
     "execution_count": 41,
     "metadata": {},
     "output_type": "execute_result"
    }
   ],
   "source": [
    "# choose a random sentence from the training dataset and tokeize it\n",
    "import random\n",
    "random_sentence = random.choice(train_sentences)\n",
    "print(f\"Original text;\\n{random_sentence}\\\n",
    "\\n\\n Vectorized Version:\")\n",
    "text_vectorizer([random_sentence])"
   ]
  },
  {
   "cell_type": "markdown",
   "id": "4f5f6ebd",
   "metadata": {},
   "source": [
    "### Creating an Embedding using an Embedding Layer"
   ]
  },
  {
   "cell_type": "markdown",
   "id": "3c16df2f",
   "metadata": {},
   "source": [
    "\n",
    "To make our embedding we're going to use TensorFlow's embedding layer\n",
    "\n",
    "The parameters we care most about for our embedding layer:\n",
    "\n",
    "input_dim = the size of our vocabulary\n",
    "output_dim = the size of output embedding vector, for example, a value of 100 would mean each token gets represented by a vector 100 long\n",
    "input_length = length of the sequences being passed to be embedding layer"
   ]
  },
  {
   "cell_type": "code",
   "execution_count": 47,
   "id": "47e677ed",
   "metadata": {},
   "outputs": [
    {
     "data": {
      "text/plain": [
       "<keras.layers.embeddings.Embedding at 0x195a0f6b3a0>"
      ]
     },
     "execution_count": 47,
     "metadata": {},
     "output_type": "execute_result"
    }
   ],
   "source": [
    "from tensorflow.keras import layers\n",
    "\n",
    "embedding = layers.Embedding(input_dim=max_vocab_length,\n",
    "                            output_dim=128,\n",
    "                            embeddings_initializer='uniform',\n",
    "                            input_length=max_length)\n",
    "embedding"
   ]
  },
  {
   "cell_type": "code",
   "execution_count": 48,
   "id": "dc866ab9",
   "metadata": {},
   "outputs": [
    {
     "name": "stdout",
     "output_type": "stream",
     "text": [
      "Original text:\n",
      "NEW REPORT: OBAMAPHONE Program Stashed $9 BILLION In Private Bank Accounts…Exposes Massive Windfall For Phone CompaniesWho could forget the  Obamaphone Lady  from Cleveland, OH, who unashamedly told an interviewer she was voting for Obama because all minorities in Cleveland get a free Obamaphone from Obama, and  He s gonna do more!  She actually woke up and admitted that she, and other minorities had been played by Obama in a follow-up video at the bottom of the page.The controversial  Obamaphone  program, which pays for cellphones for the poor, is rife with fraud, according to a new government report released Thursday that found more than a third of enrollees may not even be qualified.Known officially as the Lifeline Program, the phone giveaway became a symbol of government waste in the previous administration. Now a new report from the Government Accountability Office bears out those concerns.The report, requested by Sen. Claire McCaskill, Missouri Democrat, also says the program has stashed some $9 billion in assets in private bank accounts rather than with the federal treasury, further increasing risks and depriving taxpayers of the full benefit of that money. A complete lack of oversight is causing this program to fail the American taxpayer   everything that could go wrong is going wrong,  said Mrs. McCaskill, ranking Democrat on the Senate s chief oversight committee and who is a former state auditor in Missouri. We re currently letting phone companies cash a government check every month with little more than the honor system to hold them accountable, and that simply can t continue,  she said. The program, run by the Federal Communications Commission, predates President Obama, but it gained attention during his administration when recipients began to associate the free phone with other benefits he doled out to the poor.   Washington TimesThe Daily Caller reported:A massive portion of Obamaphone recipients are receiving the benefit after lying on their applications, according to a new 90-page report from the Government Accountability Office (GAO).An undercover sting operation showed ineligible applications were approved 63 percent of the time, and a review that found that 36 to 65 percent of beneficiaries in various categories had lied in easily-detectable ways but were approved anyway.The fraud reached unheard-of proportions because the Federal Communications Commission let the task of screening for eligibility fall to phone companies that profit off of enrolling as many people as possible.GAO undercover investigators applied for free government phones 19 times using criteria that should have been rejected, and  we were approved to receive Lifeline services by 12 of the 19 Lifeline providers using fictitious eligibility documentation. All someone has to do to apply for free cell phone service is say that they are on another welfare program, such as food stamps or disability, known as SSI.When Congress considered reforms, phone companies took out daily full-page ads in publications read by Capitol Hill staffers. The wife of the CEO of TracFone, the largest beneficiary of Obamaphones, was a mega-fundraiser for former President Barack Obama.The cause of the fraud rates, shocking even by federal government standards, was always clear: The FCC allowed companies with a profit motive to sign up as many people as possible to determine eligibility.Phone companies swooped into housing projects in vans with neon flashing lights to register users. A woman approached by one such representative outside of a welfare office told The Daily Caller News Foundation Investigative Group the man encouraged her to enroll her two-year-old.The companies weren t checking eligibility, and the FCC wasn t ensuring they did or punishing those who didn t. Additionally, the FCC failed to provide many companies with the intra-government databases that would give them the ability to perform some checks, the GAO found.The Obamaphone Lady aka Michelle Dowry made an appearance on Alex Jones  show where she admitted to finally waking up, as she discovered that Barack Obama s presidency was a giant hoax. The only thing that Michele and the rest of the the minority community Obama promised to help got during his 8 years in office was a tax-payer funded  free  phone:      \n",
      "\n",
      "Embedd version: \n"
     ]
    },
    {
     "data": {
      "text/plain": [
       "<tf.Tensor: shape=(1, 418, 128), dtype=float32, numpy=\n",
       "array([[[ 0.00534108, -0.01943518,  0.00766591, ..., -0.00952455,\n",
       "         -0.04098507,  0.00878196],\n",
       "        [-0.02155606, -0.04664079, -0.0393576 , ..., -0.03295497,\n",
       "          0.03006491,  0.00349672],\n",
       "        [ 0.04311179, -0.03698508, -0.00176573, ..., -0.01355367,\n",
       "         -0.04829703, -0.0060714 ],\n",
       "        ...,\n",
       "        [-0.02998011,  0.0338701 ,  0.02456823, ..., -0.04979665,\n",
       "         -0.00559642,  0.02524916],\n",
       "        [-0.00508294,  0.00830574,  0.00137364, ..., -0.03766972,\n",
       "         -0.04167466, -0.03881166],\n",
       "        [-0.02048026, -0.0453148 , -0.01045861, ..., -0.01509557,\n",
       "          0.0253149 , -0.04134144]]], dtype=float32)>"
      ]
     },
     "execution_count": 48,
     "metadata": {},
     "output_type": "execute_result"
    }
   ],
   "source": [
    "# Get a random sentence from the training set\n",
    "random_sentenc = random.choice(train_sentences)\n",
    "print(f\"Original text:\\n{random_sentence}\\\n",
    "      \\n\\nEmbedd version: \")\n",
    "embedding(text_vectorizer([random_sentence]))"
   ]
  },
  {
   "cell_type": "markdown",
   "id": "909f60e7",
   "metadata": {},
   "source": [
    "### Modelling"
   ]
  },
  {
   "cell_type": "markdown",
   "id": "655b26b3",
   "metadata": {},
   "source": [
    "\n",
    "We will be using LSTM(long-short term memory) neural network."
   ]
  },
  {
   "cell_type": "code",
   "execution_count": 50,
   "id": "7c9e61bd",
   "metadata": {},
   "outputs": [],
   "source": [
    "from tensorflow.keras import layers\n",
    "import tensorflow as tf\n",
    "inputs = layers.Input(shape=(1,),dtype='string')\n",
    "\n",
    "# Pass inputs to text_vectorizer(convert text into numbers)\n",
    "x = text_vectorizer(inputs) \n",
    "\n",
    "# Convert text_vectorizer layer into embedding layer\n",
    "x = embedding(x)\n",
    "\n",
    "# Model \n",
    "x = layers.LSTM(64)(x)\n",
    "\n",
    "\n",
    "# output\n",
    "outputs = layers.Dense(1, activation='sigmoid')(x)\n",
    "\n",
    "# Pass inputs and outputs to our model\n",
    "model = tf.keras.Model(inputs, outputs, name='model_LSTM')"
   ]
  },
  {
   "cell_type": "code",
   "execution_count": 51,
   "id": "d8e9e466",
   "metadata": {},
   "outputs": [
    {
     "name": "stdout",
     "output_type": "stream",
     "text": [
      "Model: \"model_LSTM\"\n",
      "_________________________________________________________________\n",
      "Layer (type)                 Output Shape              Param #   \n",
      "=================================================================\n",
      "input_2 (InputLayer)         [(None, 1)]               0         \n",
      "_________________________________________________________________\n",
      "text_vectorization_1 (TextVe (None, 418)               0         \n",
      "_________________________________________________________________\n",
      "embedding (Embedding)        (None, 418, 128)          1280000   \n",
      "_________________________________________________________________\n",
      "lstm_1 (LSTM)                (None, 64)                49408     \n",
      "_________________________________________________________________\n",
      "dense_1 (Dense)              (None, 1)                 65        \n",
      "=================================================================\n",
      "Total params: 1,329,473\n",
      "Trainable params: 1,329,473\n",
      "Non-trainable params: 0\n",
      "_________________________________________________________________\n"
     ]
    }
   ],
   "source": [
    "model.summary()"
   ]
  },
  {
   "cell_type": "code",
   "execution_count": 52,
   "id": "3c5ae8cc",
   "metadata": {},
   "outputs": [],
   "source": [
    "model.compile(loss='binary_crossentropy',\n",
    "             optimizer=tf.keras.optimizers.Adam(),\n",
    "             metrics=['accuracy'])"
   ]
  },
  {
   "cell_type": "code",
   "execution_count": 53,
   "id": "98a8076f",
   "metadata": {},
   "outputs": [
    {
     "name": "stdout",
     "output_type": "stream",
     "text": [
      "Epoch 1/5\n",
      "1123/1123 [==============================] - 190s 168ms/step - loss: 0.4475 - accuracy: 0.7982 - val_loss: 0.2692 - val_accuracy: 0.9159\n",
      "Epoch 2/5\n",
      "1123/1123 [==============================] - 196s 174ms/step - loss: 0.2713 - accuracy: 0.9082 - val_loss: 0.1809 - val_accuracy: 0.9504\n",
      "Epoch 3/5\n",
      "1123/1123 [==============================] - 204s 181ms/step - loss: 0.3291 - accuracy: 0.8642 - val_loss: 0.3357 - val_accuracy: 0.8746\n",
      "Epoch 4/5\n",
      "1123/1123 [==============================] - 199s 177ms/step - loss: 0.1951 - accuracy: 0.9392 - val_loss: 0.1785 - val_accuracy: 0.9472\n",
      "Epoch 5/5\n",
      "1123/1123 [==============================] - 199s 177ms/step - loss: 0.1779 - accuracy: 0.9429 - val_loss: 0.0791 - val_accuracy: 0.9833\n"
     ]
    }
   ],
   "source": [
    "# Fit the model\n",
    "model_history = model.fit(train_sentences,\n",
    "                         train_labels,\n",
    "                          epochs=5,\n",
    "                         validation_data=(val_sentences, val_labels))"
   ]
  },
  {
   "cell_type": "markdown",
   "id": "3e50945f",
   "metadata": {},
   "source": [
    "#### We got 99% accuracy on valid data"
   ]
  },
  {
   "cell_type": "code",
   "execution_count": 54,
   "id": "e68b1f8d",
   "metadata": {},
   "outputs": [
    {
     "data": {
      "text/plain": [
       "array([[0.9308112 ],\n",
       "       [0.9212598 ],\n",
       "       [0.00313592],\n",
       "       [0.00313419],\n",
       "       [0.6068844 ],\n",
       "       [0.0031465 ],\n",
       "       [0.92771375],\n",
       "       [0.07736543],\n",
       "       [0.06185961],\n",
       "       [0.93107134]], dtype=float32)"
      ]
     },
     "execution_count": 54,
     "metadata": {},
     "output_type": "execute_result"
    }
   ],
   "source": [
    "# Make predictions \n",
    "model_prediction = model.predict(val_sentences)\n",
    "model_prediction[:10]"
   ]
  },
  {
   "cell_type": "code",
   "execution_count": 55,
   "id": "4f0ae620",
   "metadata": {},
   "outputs": [
    {
     "data": {
      "text/plain": [
       "<tf.Tensor: shape=(10,), dtype=float32, numpy=array([1., 1., 0., 0., 1., 0., 1., 0., 0., 1.], dtype=float32)>"
      ]
     },
     "execution_count": 55,
     "metadata": {},
     "output_type": "execute_result"
    }
   ],
   "source": [
    "# Convert model prediction to our val_labels\n",
    "model_preds = tf.squeeze(tf.round(model_prediction))\n",
    "model_preds[:10]"
   ]
  },
  {
   "cell_type": "code",
   "execution_count": 56,
   "id": "4ad2e8e5",
   "metadata": {},
   "outputs": [
    {
     "name": "stdout",
     "output_type": "stream",
     "text": [
      "Accuracy Score: 0.9832962138084632\n",
      "Recall Score : 0.9839982931512695\n",
      "Precsion Score : 0.9839982931512695\n",
      "f1 Score : 0.9839982931512695\n"
     ]
    }
   ],
   "source": [
    "# Evaluatinon metrics\n",
    "from sklearn.metrics import accuracy_score, recall_score,precision_score, f1_score\n",
    "\n",
    "print(f\"Accuracy Score: {accuracy_score(val_labels,model_preds)}\")\n",
    "print(f\"Recall Score : {recall_score(val_labels, model_preds)}\")\n",
    "print(f\"Precsion Score : {precision_score(val_labels, model_preds)}\")\n",
    "print(f\"f1 Score : {f1_score(val_labels, model_preds)}\")"
   ]
  },
  {
   "cell_type": "markdown",
   "id": "5617012b",
   "metadata": {},
   "source": [
    "### Result:News Classification Using NLP has been successfully developed"
   ]
  },
  {
   "cell_type": "code",
   "execution_count": null,
   "id": "4ce45657",
   "metadata": {},
   "outputs": [],
   "source": []
  },
  {
   "cell_type": "code",
   "execution_count": null,
   "id": "502f0b25",
   "metadata": {},
   "outputs": [],
   "source": []
  },
  {
   "cell_type": "code",
   "execution_count": null,
   "id": "dc2f6f0f",
   "metadata": {},
   "outputs": [],
   "source": []
  },
  {
   "cell_type": "code",
   "execution_count": null,
   "id": "d2ca4366",
   "metadata": {},
   "outputs": [],
   "source": []
  },
  {
   "cell_type": "code",
   "execution_count": null,
   "id": "e98df997",
   "metadata": {},
   "outputs": [],
   "source": []
  },
  {
   "cell_type": "code",
   "execution_count": null,
   "id": "5663253f",
   "metadata": {},
   "outputs": [],
   "source": []
  }
 ],
 "metadata": {
  "kernelspec": {
   "display_name": "Python 3",
   "language": "python",
   "name": "python3"
  },
  "language_info": {
   "codemirror_mode": {
    "name": "ipython",
    "version": 3
   },
   "file_extension": ".py",
   "mimetype": "text/x-python",
   "name": "python",
   "nbconvert_exporter": "python",
   "pygments_lexer": "ipython3",
   "version": "3.8.8"
  }
 },
 "nbformat": 4,
 "nbformat_minor": 5
}
